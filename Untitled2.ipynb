{
 "cells": [
  {
   "cell_type": "markdown",
   "metadata": {},
   "source": [
    "##### First Step is to add up basics on 1 item "
   ]
  },
  {
   "cell_type": "code",
   "execution_count": null,
   "metadata": {},
   "outputs": [],
   "source": [
    "item = input('Please input name of item :')\n",
    "cost = input('Please input cost of item : $')\n",
    "tax = input('Please input tax rate :')\n",
    "total = int(cost) * float(tax)\n",
    "stotal = str(total)\n",
    "\n",
    "print('Your total is $' + stotal)"
   ]
  },
  {
   "cell_type": "code",
   "execution_count": null,
   "metadata": {},
   "outputs": [],
   "source": [
    "runningtotal = 0\n",
    "while True:\n",
    "    total = int(cost) * float(tax)\n",
    "    runningtotal = runningtotal + total\n",
    "    stotal = str(runningtotal)\n",
    "    \n",
    "    item = input('Please input name of item :')\n",
    "    cost = input('Please input cost of item : $')\n",
    "    tax = input('Please input tax rate :')\n",
    "    fin = input('If you are done shopping input \"done\" please :')\n",
    "    if fin == 'done':\n",
    "        break\n",
    "\n",
    "print('Your total is ' + stotal)"
   ]
  },
  {
   "cell_type": "markdown",
   "metadata": {},
   "source": [
    "###### \n",
    "\n",
    "    1.Create a function for gathering the totals/notice I have to create the variable outside the while loop to establish base-line values that can be modified\n",
    "    2.Create classes? But how can they be used in this example?\n",
    "    3.Re-read question I don't think I need to do input, for now lets just focus on creating a class and establishing basic input and output even if we have to hardcode it"
   ]
  },
  {
   "cell_type": "code",
   "execution_count": null,
   "metadata": {},
   "outputs": [],
   "source": [
    "class Item():\n",
    "        \n",
    "    \n",
    "    def __init__(self, name, price, cat):\n",
    "        if cat == 5:\n",
    "            cat = 1.05\n",
    "        elif cat == 10:\n",
    "            cat = 1.10\n",
    "        else:\n",
    "            cat = 1.0\n",
    "            \n",
    "        self.name = name\n",
    "        self.price = price\n",
    "        self.cat = cat\n",
    "        self.total = cat * price\n",
    "    "
   ]
  },
  {
   "cell_type": "code",
   "execution_count": null,
   "metadata": {},
   "outputs": [],
   "source": [
    "item1=Item('Book', 12.49,0)\n",
    "item2=Item('Music CD', 14.99,10)\n",
    "item3=Item('Chocolate Bar', .85,0)\n",
    "# maybe create a list/dictionary with this? but what about all those attributes? dictionary list them as keys?"
   ]
  },
  {
   "cell_type": "code",
   "execution_count": null,
   "metadata": {},
   "outputs": [],
   "source": [
    "#tax outside of constructor\n",
    "class BasicItem:\n",
    "    tax = 1.10\n",
    "    def __init__(self,name,cost):\n",
    "        self.name = name\n",
    "        self.cost = cost\n",
    "\n",
    "# tax inside constructor?\n",
    "class Imported:\n",
    "    def __init__(self,name,cost):\n",
    "        self.name = name\n",
    "        self.cost = cost\n",
    "        self.tax = 1.05\n",
    "        \n",
    "class Exempt:\n",
    "    def __init__(self,name,cost):\n",
    "        self.name = name\n",
    "        self.cost = cost\n",
    "        self.tax = 1.00\n",
    "        \n",
    "def total(item):\n",
    "    return item.cost*item.tax"
   ]
  },
  {
   "cell_type": "code",
   "execution_count": null,
   "metadata": {},
   "outputs": [],
   "source": [
    "choc = Imported('choc',20)\n",
    "shoes = BasicItem('shoes',100)"
   ]
  },
  {
   "cell_type": "markdown",
   "metadata": {},
   "source": [
    "# working from 2:11PM"
   ]
  },
  {
   "cell_type": "code",
   "execution_count": null,
   "metadata": {},
   "outputs": [],
   "source": [
    "import abc\n",
    "\n",
    "\n",
    "class AbstractItem(abc.ABC):\n",
    "    @abc.abstractmethod\n",
    "    def __init__(self, name, cost):\n",
    "        self.name = name\n",
    "        self.cost = cost\n",
    "        self.tax = 1.00\n",
    "\n",
    "    def get_taxed_cost(self):\n",
    "        taxed_cost = self.cost * self.tax\n",
    "        return taxed_cost\n",
    "\n",
    "    def get_tax(self):\n",
    "        difference = self.taxed_cost - self.cost\n",
    "        return difference\n",
    "    \n",
    "class DomesticTaxedItem(AbstractItem):\n",
    "    def __init__(self,name,cost):\n",
    "        super().__init__(name, cost)\n",
    "        self.tax += 0.10\n",
    "\n",
    "class DomesticTaxFreeItem(AbstractItem):\n",
    "    def __init__(self,name,cost):\n",
    "        super().__init__(name, cost)\n",
    "        self.tax = 1.00\n",
    "\n",
    "class ImportedTaxedItem(AbstractItem):\n",
    "    def __init__(self,name,cost):\n",
    "        super().__init__(name, cost)\n",
    "        self.tax += 0.15\n",
    "\n",
    "class ImportedTaxFreeItem(AbstractItem):\n",
    "    def __init__(self,name,cost):\n",
    "        super().__init__(name, cost)\n",
    "        self.tax = 0.05\n",
    "\n",
    "\n",
    "item_list = []\n",
    "total = 0\n",
    "taxtotal = 0\n",
    "result = []\n",
    "resultstr = ''\n",
    "\n",
    "f = open(\"input1.txt\", \"r\")\n",
    "for x in f:\n",
    "    exempt = False\n",
    "    imported = False\n",
    "    quantity = x[0]\n",
    "    iquantity = quantity #Convert to Integer to be used for math formula\n",
    "    originalname = x[1:-6]\n",
    "    itemname = x[1:-9]\n",
    "    itemprice = x[-6:] #Convert to Float to be used for math formula\n",
    "    fprice = float(itemprice)\n",
    "    \n",
    "    # Placed here to test if it is slicing correctly\n",
    "    print('This is the item : ' + itemname)\n",
    "    print('Quantity : ' + quantity)\n",
    "    print('Price : ' + itemprice)\n",
    "    print('this is printing x')\n",
    "    print(x)\n",
    "    print('this is adding x')\n",
    "    result.append(x)\n",
    "    resultstr += (x)\n",
    "    print('this is printing result x')\n",
    "    print(result)\n",
    "    print(resultstr)\n",
    "    \n",
    "    if 'book' in itemname:\n",
    "        exempt = True\n",
    "        print('exempt = true') # test \n",
    "        \n",
    "    if 'imported' in itemname:\n",
    "        imported = True\n",
    "        print('imported = true') # test\n",
    "        \n",
    "    if exempt and imported:\n",
    "        item = ImportedTaxFreeItem(itemname, fprice)\n",
    "    elif exempt:\n",
    "        item = DomesticTaxFreeItem(itemname, fprice)\n",
    "    elif imported:\n",
    "        item = ImportedTaxedItem(itemname, fprice)\n",
    "    else:\n",
    "        item = DomesticTaxedItem(itemname, fprice)\n",
    "        \n",
    "    item_list.append(item)\n",
    "\n",
    "counter = 0\n",
    "for item in item_list:\n",
    "\n",
    "    itemtotal = (item.get_taxed_cost())\n",
    "    total += itemtotal\n",
    "    print(counter)\n",
    "    print(total)\n",
    "    counter +=1\n",
    "    \n",
    "totaltaxx = 0\n",
    "for item in item_list:\n",
    "    ttt = (item.cost)\n",
    "    totaltaxx += ttt\n",
    "    print(totaltaxx)\n",
    "\n",
    "tacost = total-totaltaxx\n",
    "print(tacost)\n",
    "print('total tax =' )"
   ]
  },
  {
   "cell_type": "code",
   "execution_count": null,
   "metadata": {},
   "outputs": [],
   "source": []
  },
  {
   "cell_type": "code",
   "execution_count": null,
   "metadata": {},
   "outputs": [],
   "source": [
    "# Trying to match output\n",
    "for item in item_list:\n",
    "    print('1 ' + item.name + ' at '  + str(item.cost))\n",
    "    print('Sales Taxes: ' + str(tacost) )\n",
    "print('Sales Taxes: ' + str(tacost) )"
   ]
  },
  {
   "cell_type": "code",
   "execution_count": null,
   "metadata": {},
   "outputs": [],
   "source": []
  },
  {
   "cell_type": "markdown",
   "metadata": {},
   "source": [
    "# Tested working at 5PM"
   ]
  },
  {
   "cell_type": "code",
   "execution_count": null,
   "metadata": {},
   "outputs": [],
   "source": [
    "import abc\n",
    "\n",
    "# Base Class\n",
    "\n",
    "class AbstractItem(abc.ABC):\n",
    "    @abc.abstractmethod\n",
    "    def __init__(self, name, cost):\n",
    "        self.name = name\n",
    "        self.cost = cost\n",
    "        self.tax = 1.00\n",
    "\n",
    "    def get_taxed_cost(self):\n",
    "        taxed_cost = self.cost * self.tax\n",
    "        return taxed_cost\n",
    "\n",
    "    def get_tax(self):\n",
    "        difference = self.taxed_cost - self.cost\n",
    "        return difference\n",
    "    \n",
    "# Four Classes that will inherit from Base Class\n",
    "class DomesticTaxedItem(AbstractItem):\n",
    "    def __init__(self,name,cost):\n",
    "        super().__init__(name, cost)\n",
    "        self.tax += 0.10\n",
    "\n",
    "class DomesticTaxFreeItem(AbstractItem):\n",
    "    def __init__(self,name,cost):\n",
    "        super().__init__(name, cost)\n",
    "        self.tax = 1.00\n",
    "\n",
    "class ImportedTaxedItem(AbstractItem):\n",
    "    def __init__(self,name,cost):\n",
    "        super().__init__(name, cost)\n",
    "        self.tax += 0.15\n",
    "\n",
    "class ImportedTaxFreeItem(AbstractItem):\n",
    "    def __init__(self,name,cost):\n",
    "        super().__init__(name, cost)\n",
    "        self.tax += 0.05\n",
    "\n",
    "# Creation of Global variables outside of class and functions\n",
    "item_list = []\n",
    "total = 0\n",
    "taxtotal = 0\n",
    "resultstr = ''\n",
    "\n",
    "# exempt = False\n",
    "# imported = False\n",
    "\n",
    "\n",
    "# Handling of Text file,\n",
    "# We will open the file and create a for loop to read each line-by-line\n",
    "# From there as each line is read we will slice out information needed such as \n",
    "# quantity, name and price\n",
    "# we may create extra variables to turn these strings into floats/integers as needed to perform caclulations or just convert on the fly\n",
    "# exempt and imported had to be inside for loop?\n",
    "f = open(\"input3.txt\", \"r\")\n",
    "for x in f:\n",
    "    # Variables inside for loop\n",
    "    exempt = False\n",
    "    imported = False\n",
    "\n",
    "    quantity = x[0]\n",
    "    iquantity = quantity             # Convert to Integer to be used for math formula\n",
    "    originalname = x[1:-6]           # name with 'at'\n",
    "    itemname = x[1:-9]               # name without 'at'\n",
    "    itemprice = x[-6:]               # Convert to Float to be used for math formula\n",
    "    fprice = float(itemprice)\n",
    "    \n",
    "    # Placed here to test if it is slicing correctly\n",
    "    print('This is the item : ' + itemname)\n",
    "    print('Quantity : ' + quantity)\n",
    "    print('Price : ' + itemprice)\n",
    "    \n",
    "    # This is concatening string from opened file to list\n",
    "    resultstr += (x)\n",
    "    \n",
    "    # This is printing the result of the concatened string\n",
    "    print(resultstr)\n",
    "    \n",
    "    arr = ['book', 'chocolate', 'pills', 'chocolates' ]\n",
    "    if any(item in itemname for item in arr):\n",
    "        exempt = True\n",
    "        print('exempt = true : Test to show Cases and Class' ) # test \n",
    "        \n",
    "    if 'imported' in itemname:\n",
    "        imported = True\n",
    "        print('imported = true : Test to show Cases and Class') # test\n",
    "    print('--------------------')\n",
    "        \n",
    "    if exempt and imported:\n",
    "        item = ImportedTaxFreeItem(itemname, fprice)\n",
    "    elif exempt:\n",
    "        item = DomesticTaxFreeItem(itemname, fprice)\n",
    "    elif imported:\n",
    "        item = ImportedTaxedItem(itemname, fprice)\n",
    "    else:\n",
    "        item = DomesticTaxedItem(itemname, fprice)\n",
    "        \n",
    "    item_list.append(item)\n",
    "\n",
    "print('Summary')\n",
    "    \n",
    "totaltaxx = 0\n",
    "for item in item_list:\n",
    "#     tax_item = (item.cost)\n",
    "    totaltaxx += (item.cost)\n",
    "    print('Each Item Before Tax : ' + str(item.cost))\n",
    "    print('This is the running total without tax : ' + str(totaltaxx))\n",
    "\n",
    "print('--------------------')\n",
    "    \n",
    "\n",
    "for item in item_list:\n",
    "    itemtotal = (item.get_taxed_cost())\n",
    "    print('Each Item After Tax : ' + str(itemtotal))\n",
    "    total += itemtotal\n",
    "    print('This is the running total with tax : ' + str(total))\n",
    "    \n",
    "print('This is the total with tax : ' + str(total))\n",
    "\n",
    "print('--------------------')\n",
    "\n",
    "\n",
    "\n",
    "\n",
    "tacost = total-totaltaxx\n",
    "print('Total Tax Amount : ' + str(tacost) )\n",
    "print(tacost)\n"
   ]
  },
  {
   "cell_type": "code",
   "execution_count": null,
   "metadata": {},
   "outputs": [],
   "source": [
    "print(resultstr)\n",
    "print('Sales Taxes: ' + str(tacost))\n",
    "print('Total: ' + str(total))"
   ]
  },
  {
   "cell_type": "markdown",
   "metadata": {},
   "source": [
    "## working on packet of headache pills should be exempt for test 3"
   ]
  },
  {
   "cell_type": "code",
   "execution_count": null,
   "metadata": {},
   "outputs": [],
   "source": [
    "item_list"
   ]
  },
  {
   "cell_type": "code",
   "execution_count": null,
   "metadata": {},
   "outputs": [],
   "source": [
    "for item in item_list:\n",
    "    print(item.tax)"
   ]
  },
  {
   "cell_type": "code",
   "execution_count": null,
   "metadata": {},
   "outputs": [],
   "source": [
    "for item.tax in item_list:\n",
    "    item.tax"
   ]
  },
  {
   "cell_type": "code",
   "execution_count": null,
   "metadata": {},
   "outputs": [],
   "source": [
    "for item in item_list:\n",
    "    item.tax\n",
    "    "
   ]
  },
  {
   "cell_type": "code",
   "execution_count": null,
   "metadata": {},
   "outputs": [],
   "source": [
    "item_list[1].get_taxed_cost()"
   ]
  },
  {
   "cell_type": "code",
   "execution_count": null,
   "metadata": {},
   "outputs": [],
   "source": [
    "for item in item_list:\n",
    "    item.get_taxed_cost()"
   ]
  },
  {
   "cell_type": "markdown",
   "metadata": {},
   "source": [
    "### work on this for loop"
   ]
  },
  {
   "cell_type": "code",
   "execution_count": null,
   "metadata": {},
   "outputs": [],
   "source": [
    "item_list[2].get_taxed_cost()"
   ]
  },
  {
   "cell_type": "code",
   "execution_count": null,
   "metadata": {},
   "outputs": [],
   "source": [
    "item_list"
   ]
  },
  {
   "cell_type": "code",
   "execution_count": null,
   "metadata": {},
   "outputs": [],
   "source": [
    "item_list[0].get_taxed_cost()"
   ]
  },
  {
   "cell_type": "code",
   "execution_count": null,
   "metadata": {},
   "outputs": [],
   "source": [
    "resultstr"
   ]
  },
  {
   "cell_type": "code",
   "execution_count": null,
   "metadata": {},
   "outputs": [],
   "source": [
    "print(resultstr)\n",
    "print('Sales Taxes: ' + str(tacost))\n",
    "print('Total: ' + str(total))"
   ]
  },
  {
   "cell_type": "code",
   "execution_count": null,
   "metadata": {},
   "outputs": [],
   "source": []
  },
  {
   "cell_type": "code",
   "execution_count": null,
   "metadata": {},
   "outputs": [],
   "source": []
  },
  {
   "cell_type": "code",
   "execution_count": null,
   "metadata": {},
   "outputs": [],
   "source": [
    "exempt = False\n",
    "imported = False\n",
    "\n",
    "itemname = 'packet of headache pills'\n",
    "\n",
    "arr = ['book', 'chocolate', 'pills', 'chocolates' ]\n",
    "#     str = \"hello people chocolate\"\n",
    "#     if any(c in str for c in arr):\n",
    "\n",
    "if any(item in itemname for item in arr):\n",
    "    exempt = True\n",
    "    print('exempt = true') \n",
    "\n",
    "#     if 'book' in itemname:\n",
    "#         exempt = True\n",
    "#         print('exempt = true') \n",
    "    # test \n",
    "\n",
    "if 'imported' in itemname:\n",
    "    imported = True\n",
    "    print('imported = true') # test\n",
    "    \n",
    "if exempt and imported:\n",
    "    item = ImportedTaxFreeItem(itemname, fprice)\n",
    "elif exempt:\n",
    "    item = DomesticTaxFreeItem(itemname, fprice)\n",
    "elif imported:\n",
    "    item = ImportedTaxedItem(itemname, fprice)\n",
    "else:\n",
    "    item = DomesticTaxedItem(itemname, fprice)\n",
    "item"
   ]
  },
  {
   "cell_type": "code",
   "execution_count": null,
   "metadata": {},
   "outputs": [],
   "source": []
  }
 ],
 "metadata": {
  "kernelspec": {
   "display_name": "Python 3",
   "language": "python",
   "name": "python3"
  },
  "language_info": {
   "codemirror_mode": {
    "name": "ipython",
    "version": 3
   },
   "file_extension": ".py",
   "mimetype": "text/x-python",
   "name": "python",
   "nbconvert_exporter": "python",
   "pygments_lexer": "ipython3",
   "version": "3.7.1"
  }
 },
 "nbformat": 4,
 "nbformat_minor": 2
}

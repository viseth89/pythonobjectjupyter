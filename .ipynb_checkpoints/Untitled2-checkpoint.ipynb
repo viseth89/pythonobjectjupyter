{
 "cells": [
  {
   "cell_type": "markdown",
   "metadata": {},
   "source": [
    "##### First Step is to add up basics on 1 item "
   ]
  },
  {
   "cell_type": "code",
   "execution_count": 1,
   "metadata": {},
   "outputs": [
    {
     "ename": "NameError",
     "evalue": "name 'price' is not defined",
     "output_type": "error",
     "traceback": [
      "\u001b[1;31m---------------------------------------------------------------------------\u001b[0m",
      "\u001b[1;31mNameError\u001b[0m                                 Traceback (most recent call last)",
      "\u001b[1;32m<ipython-input-1-408aeec2b1bb>\u001b[0m in \u001b[0;36m<module>\u001b[1;34m\u001b[0m\n\u001b[0;32m      8\u001b[0m     \u001b[0mitemname\u001b[0m \u001b[1;33m=\u001b[0m \u001b[0mx\u001b[0m\u001b[1;33m[\u001b[0m\u001b[1;36m1\u001b[0m\u001b[1;33m:\u001b[0m\u001b[1;33m-\u001b[0m\u001b[1;36m9\u001b[0m\u001b[1;33m]\u001b[0m\u001b[1;33m\u001b[0m\u001b[1;33m\u001b[0m\u001b[0m\n\u001b[0;32m      9\u001b[0m     \u001b[0mitemprice\u001b[0m \u001b[1;33m=\u001b[0m \u001b[0mx\u001b[0m\u001b[1;33m[\u001b[0m\u001b[1;33m-\u001b[0m\u001b[1;36m6\u001b[0m\u001b[1;33m:\u001b[0m\u001b[1;33m]\u001b[0m \u001b[1;31m#Convert to Float to be used for math formula\u001b[0m\u001b[1;33m\u001b[0m\u001b[1;33m\u001b[0m\u001b[0m\n\u001b[1;32m---> 10\u001b[1;33m     \u001b[0mfprice\u001b[0m \u001b[1;33m=\u001b[0m \u001b[0mfloat\u001b[0m\u001b[1;33m(\u001b[0m\u001b[0mprice\u001b[0m\u001b[1;33m)\u001b[0m\u001b[1;33m\u001b[0m\u001b[1;33m\u001b[0m\u001b[0m\n\u001b[0m\u001b[0;32m     11\u001b[0m \u001b[1;33m\u001b[0m\u001b[0m\n\u001b[0;32m     12\u001b[0m     \u001b[1;31m# Placed here to test if it is slicing correctly\u001b[0m\u001b[1;33m\u001b[0m\u001b[1;33m\u001b[0m\u001b[1;33m\u001b[0m\u001b[0m\n",
      "\u001b[1;31mNameError\u001b[0m: name 'price' is not defined"
     ]
    }
   ],
   "source": [
    "item_list = []\n",
    "\n",
    "f = open(\"input1.txt\", \"r\")\n",
    "for x in f:\n",
    "    quantity = x[0]\n",
    "    iquanity = quantity #Convert to Integer to be used for math formula\n",
    "    originalname = x[1:-6]\n",
    "    itemname = x[1:-9]\n",
    "    itemprice = x[-6:] #Convert to Float to be used for math formula\n",
    "    fprice = float(price)\n",
    "    \n",
    "    # Placed here to test if it is slicing correctly\n",
    "    print('This is the item : ' + name)\n",
    "    print('Quantity : ' + quantity)\n",
    "    print('Price : ' + price)\n",
    "\n",
    "    print(x)\n",
    "    \n",
    "    \n",
    "# Gonna turn this if statement into a for loop with a list        \n",
    "if 'books' or 'food' or 'pills' in itemname:\n",
    "    exempt = True\n",
    "    print('exempt = true') # test \n",
    "if 'imported' in itemname:\n",
    "    imported = True\n",
    "    print('imported = true') # test\n",
    "    \n",
    "if exempt and imported:\n",
    "    item = ImportedTaxFreeItem(itemname, itemprice)\n",
    "elif exempt:\n",
    "    item = DomesticTaxFreeItem(itemname, itemprice)\n",
    "elif imported:\n",
    "    item = ImportedTaxedItem(itemname, itemprice)\n",
    "else:\n",
    "    item = DomesticTaxedItem(itemname, itemprice)\n",
    "    \n",
    "item_list.append(item)\n",
    "print(list) # test; 'item_list' is a list class\n",
    "    \n",
    "    \n",
    "    \n",
    "    \n"
   ]
  },
  {
   "cell_type": "code",
   "execution_count": null,
   "metadata": {},
   "outputs": [],
   "source": [
    "item_list[0]"
   ]
  },
  {
   "cell_type": "code",
   "execution_count": null,
   "metadata": {},
   "outputs": [],
   "source": []
  },
  {
   "cell_type": "code",
   "execution_count": null,
   "metadata": {},
   "outputs": [],
   "source": [
    "import abc\n",
    "\n",
    "\n",
    "class AbstractItem(abc.ABC):\n",
    "    @abc.abstractmethod\n",
    "    def __init__(self, name, cost):\n",
    "        self.name = name\n",
    "        self.cost = cost\n",
    "        self.tax = 1.00\n",
    "\n",
    "    def get_taxed_cost(self):\n",
    "        taxed_cost = self.cost * self.tax\n",
    "        return taxed_cost\n",
    "\n",
    "    def get_tax(self):\n",
    "        tax = (self.cost * self.tax) - self.cost\n",
    "    \n",
    "\n",
    "class DomesticTaxedItem(AbstractItem):\n",
    "    def __init__(self,name,cost):\n",
    "        super().__init__(name, cost)\n",
    "        self.tax += 0.10\n",
    "\n",
    "class DomesticTaxFreeItem(AbstractItem):\n",
    "    def __init__(self,name,cost):\n",
    "        super().__init__(name, cost)\n",
    "        self.tax = 0.00\n",
    "\n",
    "class ImportedTaxedItem(AbstractItem):\n",
    "    def __init__(self,name,cost):\n",
    "        super().__init__(name, cost)\n",
    "        self.tax += 0.15\n",
    "\n",
    "class ImportedTaxFreeItem(AbstractItem):\n",
    "    def __init__(self,name,cost):\n",
    "        super().__init__(name, cost)\n",
    "        self.tax = 0.05\n"
   ]
  },
  {
   "cell_type": "code",
   "execution_count": null,
   "metadata": {},
   "outputs": [],
   "source": []
  },
  {
   "cell_type": "code",
   "execution_count": null,
   "metadata": {},
   "outputs": [],
   "source": [
    "item = input('Please input name of item :')\n",
    "cost = input('Please input cost of item : $')\n",
    "tax = input('Please input tax rate :')\n",
    "total = int(cost) * float(tax)\n",
    "stotal = str(total)\n",
    "\n",
    "print('Your total is $' + stotal)"
   ]
  },
  {
   "cell_type": "code",
   "execution_count": null,
   "metadata": {},
   "outputs": [],
   "source": [
    "runningtotal = 0\n",
    "while True:\n",
    "    total = int(cost) * float(tax)\n",
    "    runningtotal = runningtotal + total\n",
    "    stotal = str(runningtotal)\n",
    "    \n",
    "    item = input('Please input name of item :')\n",
    "    cost = input('Please input cost of item : $')\n",
    "    tax = input('Please input tax rate :')\n",
    "    fin = input('If you are done shopping input \"done\" please :')\n",
    "    if fin == 'done':\n",
    "        break\n",
    "\n",
    "print('Your total is ' + stotal)"
   ]
  },
  {
   "cell_type": "markdown",
   "metadata": {},
   "source": [
    "###### \n",
    "\n",
    "    1.Create a function for gathering the totals/notice I have to create the variable outside the while loop to establish base-line values that can be modified\n",
    "    2.Create classes? But how can they be used in this example?\n",
    "    3.Re-read question I don't think I need to do input, for now lets just focus on creating a class and establishing basic input and output even if we have to hardcode it"
   ]
  },
  {
   "cell_type": "code",
   "execution_count": null,
   "metadata": {},
   "outputs": [],
   "source": [
    "class Item():\n",
    "        \n",
    "    \n",
    "    def __init__(self, name, price, cat):\n",
    "        if cat == 5:\n",
    "            cat = 1.05\n",
    "        elif cat == 10:\n",
    "            cat = 1.10\n",
    "        else:\n",
    "            cat = 1.0\n",
    "            \n",
    "        self.name = name\n",
    "        self.price = price\n",
    "        self.cat = cat\n",
    "        self.total = cat * price\n",
    "    "
   ]
  },
  {
   "cell_type": "code",
   "execution_count": null,
   "metadata": {},
   "outputs": [],
   "source": [
    "item1=Item('Book', 12.49,0)\n",
    "item2=Item('Music CD', 14.99,10)\n",
    "item3=Item('Chocolate Bar', .85,0)\n",
    "# maybe create a list/dictionary with this? but what about all those attributes? dictionary list them as keys?"
   ]
  },
  {
   "cell_type": "code",
   "execution_count": null,
   "metadata": {},
   "outputs": [],
   "source": [
    "#tax outside of constructor\n",
    "class BasicItem:\n",
    "    tax = 1.10\n",
    "    def __init__(self,name,cost):\n",
    "        self.name = name\n",
    "        self.cost = cost\n",
    "\n",
    "# tax inside constructor?\n",
    "class Imported:\n",
    "    def __init__(self,name,cost):\n",
    "        self.name = name\n",
    "        self.cost = cost\n",
    "        self.tax = 1.05\n",
    "        \n",
    "class Exempt:\n",
    "    def __init__(self,name,cost):\n",
    "        self.name = name\n",
    "        self.cost = cost\n",
    "        self.tax = 1.00\n",
    "        \n",
    "def total(item):\n",
    "    return item.cost*item.tax"
   ]
  },
  {
   "cell_type": "code",
   "execution_count": null,
   "metadata": {},
   "outputs": [],
   "source": [
    "choc = Imported('choc',20)\n",
    "shoes = BasicItem('shoes',100)"
   ]
  },
  {
   "cell_type": "code",
   "execution_count": null,
   "metadata": {},
   "outputs": [],
   "source": []
  },
  {
   "cell_type": "code",
   "execution_count": 67,
   "metadata": {},
   "outputs": [
    {
     "name": "stdout",
     "output_type": "stream",
     "text": [
      "This is the item :  book \n",
      "Quantity : 1\n",
      "Price : 12.49\n",
      "\n",
      "1 book at 12.49\n",
      "\n",
      "exempt = true\n",
      "This is the item :  music CD \n",
      "Quantity : 1\n",
      "Price : 14.99\n",
      "\n",
      "1 music CD at 14.99\n",
      "\n",
      "This is the item :  chocolate bar\n",
      "Quantity : 1\n",
      "Price :  0.85\n",
      "\n",
      "1 chocolate bar at 0.85\n",
      "\n",
      "12.49\n",
      "28.979\n",
      "29.913999999999998\n",
      "12.49\n",
      "27.48\n",
      "28.330000000000002\n",
      "1.583999999999996\n",
      "total tax =\n"
     ]
    }
   ],
   "source": [
    "import abc\n",
    "\n",
    "\n",
    "class AbstractItem(abc.ABC):\n",
    "    @abc.abstractmethod\n",
    "    def __init__(self, name, cost):\n",
    "        self.name = name\n",
    "        self.cost = cost\n",
    "        self.tax = 1.00\n",
    "\n",
    "    def get_taxed_cost(self):\n",
    "        taxed_cost = self.cost * self.tax\n",
    "        return taxed_cost\n",
    "\n",
    "    def get_tax(self):\n",
    "        difference = self.taxed_cost - self.cost\n",
    "        return difference\n",
    "    \n",
    "class DomesticTaxedItem(AbstractItem):\n",
    "    def __init__(self,name,cost):\n",
    "        super().__init__(name, cost)\n",
    "        self.tax += 0.10\n",
    "\n",
    "class DomesticTaxFreeItem(AbstractItem):\n",
    "    def __init__(self,name,cost):\n",
    "        super().__init__(name, cost)\n",
    "        self.tax = 1.00\n",
    "\n",
    "class ImportedTaxedItem(AbstractItem):\n",
    "    def __init__(self,name,cost):\n",
    "        super().__init__(name, cost)\n",
    "        self.tax += 0.15\n",
    "\n",
    "class ImportedTaxFreeItem(AbstractItem):\n",
    "    def __init__(self,name,cost):\n",
    "        super().__init__(name, cost)\n",
    "        self.tax = 0.05\n",
    "\n",
    "\n",
    "item_list = []\n",
    "total = 0\n",
    "taxtotal = 0\n",
    "\n",
    "f = open(\"input1.txt\", \"r\")\n",
    "for x in f:\n",
    "    exempt = False\n",
    "    imported = False\n",
    "    quantity = x[0]\n",
    "    iquantity = quantity #Convert to Integer to be used for math formula\n",
    "    originalname = x[1:-6]\n",
    "    itemname = x[1:-9]\n",
    "    itemprice = x[-6:] #Convert to Float to be used for math formula\n",
    "    fprice = float(itemprice)\n",
    "    \n",
    "    # Placed here to test if it is slicing correctly\n",
    "    print('This is the item : ' + itemname)\n",
    "    print('Quantity : ' + quantity)\n",
    "    print('Price : ' + itemprice)\n",
    "\n",
    "    print(x)\n",
    "    \n",
    "    if 'book' in itemname:\n",
    "        exempt = True\n",
    "        print('exempt = true') # test \n",
    "        \n",
    "    if 'imported' in itemname:\n",
    "        imported = True\n",
    "        print('imported = true') # test\n",
    "        \n",
    "    if exempt and imported:\n",
    "        item = ImportedTaxFreeItem(itemname, fprice)\n",
    "    elif exempt:\n",
    "        item = DomesticTaxFreeItem(itemname, fprice)\n",
    "    elif imported:\n",
    "        item = ImportedTaxedItem(itemname, fprice)\n",
    "    else:\n",
    "        item = DomesticTaxedItem(itemname, fprice)\n",
    "        \n",
    "    item_list.append(item)\n",
    "\n",
    "    \n",
    "for item in item_list:\n",
    "    itemtotal = (item.get_taxed_cost())\n",
    "    total += itemtotal\n",
    "    print(total)\n",
    "    \n",
    "totaltaxx = 0\n",
    "for item in item_list:\n",
    "    ttt = (item.cost)\n",
    "    totaltaxx += ttt\n",
    "    print(totaltaxx)\n",
    "    \n",
    "print(total - totaltaxx)\n",
    "print('total tax =' )"
   ]
  },
  {
   "cell_type": "code",
   "execution_count": 63,
   "metadata": {},
   "outputs": [
    {
     "name": "stdout",
     "output_type": "stream",
     "text": [
      "12.49\n",
      "12.49\n",
      "12.49\n",
      "14.99\n",
      "14.99\n",
      "27.48\n",
      "0.85\n",
      "0.85\n",
      "28.330000000000002\n"
     ]
    }
   ],
   "source": [
    "totaltaxx = 0\n",
    "for item in item_list:\n",
    "    print(item.cost)\n",
    "    ttt = (item.cost)\n",
    "    print(ttt)\n",
    "    totaltaxx += ttt\n",
    "    print(totaltaxx)"
   ]
  },
  {
   "cell_type": "code",
   "execution_count": 62,
   "metadata": {},
   "outputs": [
    {
     "ename": "AttributeError",
     "evalue": "'DomesticTaxFreeItem' object has no attribute 'taxed_cost'",
     "output_type": "error",
     "traceback": [
      "\u001b[1;31m---------------------------------------------------------------------------\u001b[0m",
      "\u001b[1;31mAttributeError\u001b[0m                            Traceback (most recent call last)",
      "\u001b[1;32m<ipython-input-62-8592fc9ef8fe>\u001b[0m in \u001b[0;36m<module>\u001b[1;34m\u001b[0m\n\u001b[0;32m      1\u001b[0m \u001b[1;32mfor\u001b[0m \u001b[0mword\u001b[0m \u001b[1;32min\u001b[0m \u001b[0mitem_list\u001b[0m\u001b[1;33m:\u001b[0m\u001b[1;33m\u001b[0m\u001b[1;33m\u001b[0m\u001b[0m\n\u001b[1;32m----> 2\u001b[1;33m     \u001b[0mprint\u001b[0m\u001b[1;33m(\u001b[0m\u001b[0mword\u001b[0m\u001b[1;33m.\u001b[0m\u001b[0mget_tax\u001b[0m\u001b[1;33m(\u001b[0m\u001b[1;33m)\u001b[0m\u001b[1;33m)\u001b[0m\u001b[1;33m\u001b[0m\u001b[1;33m\u001b[0m\u001b[0m\n\u001b[0m\u001b[0;32m      3\u001b[0m \u001b[1;33m\u001b[0m\u001b[0m\n",
      "\u001b[1;32m<ipython-input-55-5ce03f17f5e1>\u001b[0m in \u001b[0;36mget_tax\u001b[1;34m(self)\u001b[0m\n\u001b[0;32m     14\u001b[0m \u001b[1;33m\u001b[0m\u001b[0m\n\u001b[0;32m     15\u001b[0m     \u001b[1;32mdef\u001b[0m \u001b[0mget_tax\u001b[0m\u001b[1;33m(\u001b[0m\u001b[0mself\u001b[0m\u001b[1;33m)\u001b[0m\u001b[1;33m:\u001b[0m\u001b[1;33m\u001b[0m\u001b[1;33m\u001b[0m\u001b[0m\n\u001b[1;32m---> 16\u001b[1;33m         \u001b[0mdifference\u001b[0m \u001b[1;33m=\u001b[0m \u001b[0mself\u001b[0m\u001b[1;33m.\u001b[0m\u001b[0mtaxed_cost\u001b[0m \u001b[1;33m-\u001b[0m \u001b[0mself\u001b[0m\u001b[1;33m.\u001b[0m\u001b[0mcost\u001b[0m\u001b[1;33m\u001b[0m\u001b[1;33m\u001b[0m\u001b[0m\n\u001b[0m\u001b[0;32m     17\u001b[0m         \u001b[1;32mreturn\u001b[0m \u001b[0mdifference\u001b[0m\u001b[1;33m\u001b[0m\u001b[1;33m\u001b[0m\u001b[0m\n\u001b[0;32m     18\u001b[0m \u001b[1;31m#         cost_of_tax = self.tax - 1.00\u001b[0m\u001b[1;33m\u001b[0m\u001b[1;33m\u001b[0m\u001b[1;33m\u001b[0m\u001b[0m\n",
      "\u001b[1;31mAttributeError\u001b[0m: 'DomesticTaxFreeItem' object has no attribute 'taxed_cost'"
     ]
    }
   ],
   "source": [
    "for word in item_list:\n",
    "    print(word.get_tax())\n",
    "    "
   ]
  },
  {
   "cell_type": "code",
   "execution_count": 29,
   "metadata": {},
   "outputs": [
    {
     "data": {
      "text/plain": [
       "True"
      ]
     },
     "execution_count": 29,
     "metadata": {},
     "output_type": "execute_result"
    }
   ],
   "source": [
    "-1 < 0"
   ]
  },
  {
   "cell_type": "code",
   "execution_count": 6,
   "metadata": {},
   "outputs": [
    {
     "data": {
      "text/plain": [
       "True"
      ]
     },
     "execution_count": 6,
     "metadata": {},
     "output_type": "execute_result"
    }
   ],
   "source": [
    "-12 < 0"
   ]
  },
  {
   "cell_type": "code",
   "execution_count": null,
   "metadata": {},
   "outputs": [],
   "source": [
    "bbb"
   ]
  },
  {
   "cell_type": "markdown",
   "metadata": {},
   "source": [
    "# working from 2:11PM"
   ]
  },
  {
   "cell_type": "code",
   "execution_count": 32,
   "metadata": {},
   "outputs": [
    {
     "name": "stdout",
     "output_type": "stream",
     "text": [
      "This is the item :  book \n",
      "Quantity : 1\n",
      "Price : 12.49\n",
      "\n",
      "this is printing x\n",
      "1 book at 12.49\n",
      "\n",
      "this is adding x\n",
      "this is printing result x\n",
      "['1 book at 12.49\\n']\n",
      "1 book at 12.49\n",
      "\n",
      "exempt = true\n",
      "This is the item :  music CD \n",
      "Quantity : 1\n",
      "Price : 14.99\n",
      "\n",
      "this is printing x\n",
      "1 music CD at 14.99\n",
      "\n",
      "this is adding x\n",
      "this is printing result x\n",
      "['1 book at 12.49\\n', '1 music CD at 14.99\\n']\n",
      "1 book at 12.49\n",
      "1 music CD at 14.99\n",
      "\n",
      "exempt = true\n",
      "This is the item :  chocolate bar\n",
      "Quantity : 1\n",
      "Price :  0.85\n",
      "\n",
      "this is printing x\n",
      "1 chocolate bar at 0.85\n",
      "\n",
      "this is adding x\n",
      "this is printing result x\n",
      "['1 book at 12.49\\n', '1 music CD at 14.99\\n', '1 chocolate bar at 0.85\\n']\n",
      "1 book at 12.49\n",
      "1 music CD at 14.99\n",
      "1 chocolate bar at 0.85\n",
      "\n",
      "exempt = true\n",
      "0\n",
      "12.49\n",
      "1\n",
      "27.48\n",
      "2\n",
      "28.330000000000002\n",
      "12.49\n",
      "27.48\n",
      "28.330000000000002\n",
      "0.0\n",
      "total tax =\n"
     ]
    }
   ],
   "source": [
    "import abc\n",
    "\n",
    "\n",
    "class AbstractItem(abc.ABC):\n",
    "    @abc.abstractmethod\n",
    "    def __init__(self, name, cost):\n",
    "        self.name = name\n",
    "        self.cost = cost\n",
    "        self.tax = 1.00\n",
    "\n",
    "    def get_taxed_cost(self):\n",
    "        taxed_cost = self.cost * self.tax\n",
    "        return taxed_cost\n",
    "\n",
    "    def get_tax(self):\n",
    "        difference = self.taxed_cost - self.cost\n",
    "        return difference\n",
    "    \n",
    "class DomesticTaxedItem(AbstractItem):\n",
    "    def __init__(self,name,cost):\n",
    "        super().__init__(name, cost)\n",
    "        self.tax += 0.10\n",
    "\n",
    "class DomesticTaxFreeItem(AbstractItem):\n",
    "    def __init__(self,name,cost):\n",
    "        super().__init__(name, cost)\n",
    "        self.tax = 1.00\n",
    "\n",
    "class ImportedTaxedItem(AbstractItem):\n",
    "    def __init__(self,name,cost):\n",
    "        super().__init__(name, cost)\n",
    "        self.tax += 0.15\n",
    "\n",
    "class ImportedTaxFreeItem(AbstractItem):\n",
    "    def __init__(self,name,cost):\n",
    "        super().__init__(name, cost)\n",
    "        self.tax = 0.05\n",
    "\n",
    "\n",
    "item_list = []\n",
    "total = 0\n",
    "taxtotal = 0\n",
    "result = []\n",
    "resultstr = ''\n",
    "\n",
    "f = open(\"input1.txt\", \"r\")\n",
    "for x in f:\n",
    "    exempt = False\n",
    "    imported = False\n",
    "    quantity = x[0]\n",
    "    iquantity = quantity #Convert to Integer to be used for math formula\n",
    "    originalname = x[1:-6]\n",
    "    itemname = x[1:-9]\n",
    "    itemprice = x[-6:] #Convert to Float to be used for math formula\n",
    "    fprice = float(itemprice)\n",
    "    \n",
    "    # Placed here to test if it is slicing correctly\n",
    "    print('This is the item : ' + itemname)\n",
    "    print('Quantity : ' + quantity)\n",
    "    print('Price : ' + itemprice)\n",
    "    print('this is printing x')\n",
    "    print(x)\n",
    "    print('this is adding x')\n",
    "    result.append(x)\n",
    "    resultstr += (x)\n",
    "    print('this is printing result x')\n",
    "    print(result)\n",
    "    print(resultstr)\n",
    "    \n",
    "    if 'book' or 'pills' or 'chocolates' in itemname:\n",
    "        exempt = True\n",
    "        print('exempt = true') # test \n",
    "        \n",
    "    if 'imported' in itemname:\n",
    "        imported = True\n",
    "        print('imported = true') # test\n",
    "        \n",
    "    if exempt and imported:\n",
    "        item = ImportedTaxFreeItem(itemname, fprice)\n",
    "    elif exempt:\n",
    "        item = DomesticTaxFreeItem(itemname, fprice)\n",
    "    elif imported:\n",
    "        item = ImportedTaxedItem(itemname, fprice)\n",
    "    else:\n",
    "        item = DomesticTaxedItem(itemname, fprice)\n",
    "        \n",
    "    item_list.append(item)\n",
    "\n",
    "counter = 0\n",
    "for item in item_list:\n",
    "\n",
    "    itemtotal = (item.get_taxed_cost())\n",
    "    total += itemtotal\n",
    "    print(counter)\n",
    "    print(total)\n",
    "    counter +=1\n",
    "    \n",
    "totaltaxx = 0\n",
    "for item in item_list:\n",
    "    ttt = (item.cost)\n",
    "    totaltaxx += ttt\n",
    "    print(totaltaxx)\n",
    "\n",
    "tacost = total-totaltaxx\n",
    "print(tacost)\n",
    "print('total tax =' )"
   ]
  },
  {
   "cell_type": "code",
   "execution_count": null,
   "metadata": {},
   "outputs": [],
   "source": []
  },
  {
   "cell_type": "code",
   "execution_count": 35,
   "metadata": {},
   "outputs": [
    {
     "name": "stdout",
     "output_type": "stream",
     "text": [
      "1  book  at 12.49\n",
      "Sales Taxes: 0.0\n",
      "1  music CD  at 14.99\n",
      "Sales Taxes: 0.0\n",
      "1  chocolate bar at 0.85\n",
      "Sales Taxes: 0.0\n",
      "Sales Taxes: 0.0\n"
     ]
    }
   ],
   "source": [
    "# Trying to match output\n",
    "for item in item_list:\n",
    "    print('1 ' + item.name + ' at '  + str(item.cost))\n",
    "    print('Sales Taxes: ' + str(tacost) )\n",
    "print('Sales Taxes: ' + str(tacost) )"
   ]
  },
  {
   "cell_type": "code",
   "execution_count": null,
   "metadata": {},
   "outputs": [],
   "source": []
  },
  {
   "cell_type": "code",
   "execution_count": null,
   "metadata": {},
   "outputs": [],
   "source": []
  },
  {
   "cell_type": "code",
   "execution_count": null,
   "metadata": {},
   "outputs": [],
   "source": [
    "3333 test"
   ]
  },
  {
   "cell_type": "code",
   "execution_count": 57,
   "metadata": {},
   "outputs": [
    {
     "name": "stdout",
     "output_type": "stream",
     "text": [
      "This is the item :  book \n",
      "Quantity : 1\n",
      "Price : 12.49\n",
      "\n",
      "this is adding x to str \n",
      "1 book at 12.49\n",
      "\n",
      "exempt = true\n",
      "This is the item :  music CD \n",
      "Quantity : 1\n",
      "Price : 14.99\n",
      "\n",
      "this is adding x to str \n",
      "1 book at 12.49\n",
      "1 music CD at 14.99\n",
      "\n",
      "exempt = true\n",
      "This is the item :  chocolate bar\n",
      "Quantity : 1\n",
      "Price :  0.85\n",
      "\n",
      "this is adding x to str \n",
      "1 book at 12.49\n",
      "1 music CD at 14.99\n",
      "1 chocolate bar at 0.85\n",
      "\n",
      "exempt = true\n",
      "0\n",
      "item tax rate : 1.0\n",
      "total so far : 12.49\n",
      "1\n",
      "item tax rate : 1.0\n",
      "total so far : 27.48\n",
      "2\n",
      "item tax rate : 1.0\n",
      "total so far : 28.330000000000002\n",
      "12.49\n",
      "27.48\n",
      "28.330000000000002\n",
      "0.0\n",
      "total tax =\n"
     ]
    }
   ],
   "source": [
    "import abc\n",
    "\n",
    "\n",
    "class AbstractItem(abc.ABC):\n",
    "    @abc.abstractmethod\n",
    "    def __init__(self, name, cost):\n",
    "        self.name = name\n",
    "        self.cost = cost\n",
    "        self.tax = 1.00\n",
    "\n",
    "    def get_taxed_cost(self):\n",
    "        taxed_cost = self.cost * self.tax\n",
    "        return taxed_cost\n",
    "\n",
    "    def get_tax(self):\n",
    "        difference = self.taxed_cost - self.cost\n",
    "        return difference\n",
    "    \n",
    "class DomesticTaxedItem(AbstractItem):\n",
    "    def __init__(self,name,cost):\n",
    "        super().__init__(name, cost)\n",
    "        self.tax += 0.10\n",
    "\n",
    "class DomesticTaxFreeItem(AbstractItem):\n",
    "    def __init__(self,name,cost):\n",
    "        super().__init__(name, cost)\n",
    "        self.tax = 1.00\n",
    "\n",
    "class ImportedTaxedItem(AbstractItem):\n",
    "    def __init__(self,name,cost):\n",
    "        super().__init__(name, cost)\n",
    "        self.tax += 0.15\n",
    "\n",
    "class ImportedTaxFreeItem(AbstractItem):\n",
    "    def __init__(self,name,cost):\n",
    "        super().__init__(name, cost)\n",
    "        self.tax = 0.05\n",
    "\n",
    "\n",
    "item_list = []\n",
    "total = 0\n",
    "taxtotal = 0\n",
    "result = []\n",
    "resultstr = ''\n",
    "\n",
    "f = open(\"input1.txt\", \"r\")\n",
    "for x in f:\n",
    "    exempt = False\n",
    "    imported = False\n",
    "    quantity = x[0]\n",
    "    iquantity = quantity #Convert to Integer to be used for math formula\n",
    "    originalname = x[1:-6]\n",
    "    itemname = x[1:-9]\n",
    "    itemprice = x[-6:] #Convert to Float to be used for math formula\n",
    "    fprice = float(itemprice)\n",
    "    \n",
    "    # Placed here to test if it is slicing correctly\n",
    "    print('This is the item : ' + itemname)\n",
    "    print('Quantity : ' + quantity)\n",
    "    print('Price : ' + itemprice)\n",
    "\n",
    "    print('this is adding x to str ')\n",
    "    result.append(x)\n",
    "    resultstr += (x)\n",
    "\n",
    "    print(resultstr)\n",
    "    # having problems with this if statement for books or chocolates it turns everything into tax free and everything is true\n",
    "    if 'book' or 'chocolates' in itemname:\n",
    "        exempt = True\n",
    "        print('exempt = true') # test \n",
    "        \n",
    "    if 'imported' in itemname:\n",
    "        imported = True\n",
    "        print('imported = true') # test\n",
    "        \n",
    "    if exempt and imported:\n",
    "        item = ImportedTaxFreeItem(itemname, fprice)\n",
    "    elif exempt:\n",
    "        item = DomesticTaxFreeItem(itemname, fprice)\n",
    "    elif imported:\n",
    "        item = ImportedTaxedItem(itemname, fprice)\n",
    "    else:\n",
    "        item = DomesticTaxedItem(itemname, fprice)\n",
    "        \n",
    "    item_list.append(item)\n",
    "\n",
    "counter = 0\n",
    "for item in item_list:\n",
    "\n",
    "    itemtotal = (item.get_taxed_cost())\n",
    "    total += itemtotal\n",
    "    print(counter)\n",
    "    print('item tax rate : ' + str(item.tax))\n",
    "\n",
    "    print('total so far : ' + str(total) )\n",
    "    counter +=1\n",
    "    \n",
    "totaltaxx = 0\n",
    "for item in item_list:\n",
    "    ttt = (item.cost)\n",
    "    totaltaxx += ttt\n",
    "    print(totaltaxx)\n",
    "\n",
    "tacost = total-totaltaxx\n",
    "print(tacost)\n",
    "print('total tax =' )"
   ]
  },
  {
   "cell_type": "code",
   "execution_count": null,
   "metadata": {},
   "outputs": [],
   "source": []
  },
  {
   "cell_type": "code",
   "execution_count": 58,
   "metadata": {},
   "outputs": [
    {
     "data": {
      "text/plain": [
       "<__main__.DomesticTaxFreeItem at 0x205ec3e6208>"
      ]
     },
     "execution_count": 58,
     "metadata": {},
     "output_type": "execute_result"
    }
   ],
   "source": [
    "item_list[0]\n"
   ]
  },
  {
   "cell_type": "code",
   "execution_count": 59,
   "metadata": {},
   "outputs": [
    {
     "data": {
      "text/plain": [
       "[<__main__.DomesticTaxFreeItem at 0x205ec3e6208>,\n",
       " <__main__.DomesticTaxFreeItem at 0x205ec415048>,\n",
       " <__main__.DomesticTaxFreeItem at 0x205ec40a710>]"
      ]
     },
     "execution_count": 59,
     "metadata": {},
     "output_type": "execute_result"
    }
   ],
   "source": [
    "item_list"
   ]
  },
  {
   "cell_type": "code",
   "execution_count": null,
   "metadata": {},
   "outputs": [],
   "source": []
  },
  {
   "cell_type": "code",
   "execution_count": null,
   "metadata": {},
   "outputs": [],
   "source": []
  },
  {
   "cell_type": "code",
   "execution_count": null,
   "metadata": {},
   "outputs": [],
   "source": []
  },
  {
   "cell_type": "code",
   "execution_count": null,
   "metadata": {},
   "outputs": [],
   "source": []
  },
  {
   "cell_type": "code",
   "execution_count": null,
   "metadata": {},
   "outputs": [],
   "source": []
  },
  {
   "cell_type": "code",
   "execution_count": null,
   "metadata": {},
   "outputs": [],
   "source": []
  },
  {
   "cell_type": "code",
   "execution_count": null,
   "metadata": {},
   "outputs": [],
   "source": []
  },
  {
   "cell_type": "code",
   "execution_count": null,
   "metadata": {},
   "outputs": [],
   "source": []
  },
  {
   "cell_type": "code",
   "execution_count": null,
   "metadata": {},
   "outputs": [],
   "source": []
  },
  {
   "cell_type": "code",
   "execution_count": null,
   "metadata": {},
   "outputs": [],
   "source": []
  },
  {
   "cell_type": "code",
   "execution_count": null,
   "metadata": {},
   "outputs": [],
   "source": []
  },
  {
   "cell_type": "code",
   "execution_count": 37,
   "metadata": {},
   "outputs": [
    {
     "name": "stdout",
     "output_type": "stream",
     "text": [
      "This is the item :  book \n",
      "Quantity : 1\n",
      "Price : 12.49\n",
      "\n",
      "this is printing x\n",
      "1 book at 12.49\n",
      "\n",
      "this is adding x\n",
      "this is printing result x\n",
      "['1 book at 12.49\\n']\n",
      "1 book at 12.49\n",
      "\n",
      "exempt = true\n",
      "This is the item :  music CD \n",
      "Quantity : 1\n",
      "Price : 14.99\n",
      "\n",
      "this is printing x\n",
      "1 music CD at 14.99\n",
      "\n",
      "this is adding x\n",
      "this is printing result x\n",
      "['1 book at 12.49\\n', '1 music CD at 14.99\\n']\n",
      "1 book at 12.49\n",
      "1 music CD at 14.99\n",
      "\n",
      "This is the item :  chocolate bar\n",
      "Quantity : 1\n",
      "Price :  0.85\n",
      "\n",
      "this is printing x\n",
      "1 chocolate bar at 0.85\n",
      "\n",
      "this is adding x\n",
      "this is printing result x\n",
      "['1 book at 12.49\\n', '1 music CD at 14.99\\n', '1 chocolate bar at 0.85\\n']\n",
      "1 book at 12.49\n",
      "1 music CD at 14.99\n",
      "1 chocolate bar at 0.85\n",
      "\n",
      "0\n",
      "12.49\n",
      "1\n",
      "28.979\n",
      "2\n",
      "29.913999999999998\n",
      "12.49\n",
      "27.48\n",
      "28.330000000000002\n",
      "1.583999999999996\n",
      "total tax =\n"
     ]
    }
   ],
   "source": [
    "import abc\n",
    "\n",
    "\n",
    "class AbstractItem(abc.ABC):\n",
    "    @abc.abstractmethod\n",
    "    def __init__(self, name, cost):\n",
    "        self.name = name\n",
    "        self.cost = cost\n",
    "        self.tax = 1.00\n",
    "\n",
    "    def get_taxed_cost(self):\n",
    "        taxed_cost = self.cost * self.tax\n",
    "        return taxed_cost\n",
    "\n",
    "    def get_tax(self):\n",
    "        difference = self.taxed_cost - self.cost\n",
    "        return difference\n",
    "    \n",
    "class DomesticTaxedItem(AbstractItem):\n",
    "    def __init__(self,name,cost):\n",
    "        super().__init__(name, cost)\n",
    "        self.tax += 0.10\n",
    "\n",
    "class DomesticTaxFreeItem(AbstractItem):\n",
    "    def __init__(self,name,cost):\n",
    "        super().__init__(name, cost)\n",
    "        self.tax = 1.00\n",
    "\n",
    "class ImportedTaxedItem(AbstractItem):\n",
    "    def __init__(self,name,cost):\n",
    "        super().__init__(name, cost)\n",
    "        self.tax += 0.15\n",
    "\n",
    "class ImportedTaxFreeItem(AbstractItem):\n",
    "    def __init__(self,name,cost):\n",
    "        super().__init__(name, cost)\n",
    "        self.tax = 0.05\n",
    "\n",
    "\n",
    "item_list = []\n",
    "total = 0\n",
    "taxtotal = 0\n",
    "result = []\n",
    "resultstr = ''\n",
    "\n",
    "f = open(\"input1.txt\", \"r\")\n",
    "for x in f:\n",
    "    exempt = False\n",
    "    imported = False\n",
    "    quantity = x[0]\n",
    "    iquantity = quantity #Convert to Integer to be used for math formula\n",
    "    originalname = x[1:-6]\n",
    "    itemname = x[1:-9]\n",
    "    itemprice = x[-6:] #Convert to Float to be used for math formula\n",
    "    fprice = float(itemprice)\n",
    "    \n",
    "    # Placed here to test if it is slicing correctly\n",
    "    print('This is the item : ' + itemname)\n",
    "    print('Quantity : ' + quantity)\n",
    "    print('Price : ' + itemprice)\n",
    "    print('this is printing x')\n",
    "    print(x)\n",
    "    print('this is adding x')\n",
    "    result.append(x)\n",
    "    resultstr += (x)\n",
    "    print('this is printing result x')\n",
    "    print(result)\n",
    "    print(resultstr)\n",
    "    \n",
    "    if 'book' in itemname:\n",
    "        exempt = True\n",
    "        print('exempt = true') # test \n",
    "        \n",
    "    if 'imported' in itemname:\n",
    "        imported = True\n",
    "        print('imported = true') # test\n",
    "        \n",
    "    if exempt and imported:\n",
    "        item = ImportedTaxFreeItem(itemname, fprice)\n",
    "    elif exempt:\n",
    "        item = DomesticTaxFreeItem(itemname, fprice)\n",
    "    elif imported:\n",
    "        item = ImportedTaxedItem(itemname, fprice)\n",
    "    else:\n",
    "        item = DomesticTaxedItem(itemname, fprice)\n",
    "        \n",
    "    item_list.append(item)\n",
    "\n",
    "counter = 0\n",
    "for item in item_list:\n",
    "\n",
    "    itemtotal = (item.get_taxed_cost())\n",
    "    total += itemtotal\n",
    "    print(counter)\n",
    "    print(total)\n",
    "    counter +=1\n",
    "    \n",
    "totaltaxx = 0\n",
    "for item in item_list:\n",
    "    ttt = (item.cost)\n",
    "    totaltaxx += ttt\n",
    "    print(totaltaxx)\n",
    "\n",
    "tacost = total-totaltaxx\n",
    "print(tacost)\n",
    "print('total tax =' )"
   ]
  },
  {
   "cell_type": "code",
   "execution_count": 21,
   "metadata": {},
   "outputs": [
    {
     "data": {
      "text/plain": [
       "['1 book at 12.49\\n', '1 music CD at 14.99\\n', '1 chocolate bar at 0.85\\n']"
      ]
     },
     "execution_count": 21,
     "metadata": {},
     "output_type": "execute_result"
    }
   ],
   "source": [
    "result"
   ]
  },
  {
   "cell_type": "code",
   "execution_count": 22,
   "metadata": {},
   "outputs": [
    {
     "data": {
      "text/plain": [
       "'1 book at 12.49\\n1 music CD at 14.99\\n1 chocolate bar at 0.85\\n'"
      ]
     },
     "execution_count": 22,
     "metadata": {},
     "output_type": "execute_result"
    }
   ],
   "source": [
    "resultstr"
   ]
  },
  {
   "cell_type": "code",
   "execution_count": 23,
   "metadata": {},
   "outputs": [
    {
     "data": {
      "text/plain": [
       "['1 book at 12.49\\n', '1 music CD at 14.99\\n', '1 chocolate bar at 0.85\\n']"
      ]
     },
     "execution_count": 23,
     "metadata": {},
     "output_type": "execute_result"
    }
   ],
   "source": [
    "result"
   ]
  },
  {
   "cell_type": "code",
   "execution_count": 24,
   "metadata": {},
   "outputs": [
    {
     "name": "stdout",
     "output_type": "stream",
     "text": [
      "1 book at 12.49\n",
      "\n",
      "1 music CD at 14.99\n",
      "\n",
      "1 chocolate bar at 0.85\n",
      "\n"
     ]
    }
   ],
   "source": [
    "f = open(\"input1.txt\", \"r\")\n",
    "for x in f:\n",
    "    print(x)"
   ]
  },
  {
   "cell_type": "code",
   "execution_count": 25,
   "metadata": {},
   "outputs": [
    {
     "data": {
      "text/plain": [
       "[<__main__.DomesticTaxFreeItem at 0x205ebf996a0>,\n",
       " <__main__.DomesticTaxedItem at 0x205ec3554a8>,\n",
       " <__main__.DomesticTaxedItem at 0x205ec3ebc88>]"
      ]
     },
     "execution_count": 25,
     "metadata": {},
     "output_type": "execute_result"
    }
   ],
   "source": [
    "item_list"
   ]
  },
  {
   "cell_type": "code",
   "execution_count": 26,
   "metadata": {},
   "outputs": [
    {
     "name": "stdout",
     "output_type": "stream",
     "text": [
      " book \n"
     ]
    }
   ],
   "source": [
    "print(item_list[0].name)"
   ]
  },
  {
   "cell_type": "code",
   "execution_count": 28,
   "metadata": {},
   "outputs": [
    {
     "name": "stdout",
     "output_type": "stream",
     "text": [
      "1  book  at 12.49\n",
      "1  music CD  at 14.99\n",
      "1  chocolate bar at 0.85\n",
      "Sales Taxes: 1.583999999999996\n"
     ]
    }
   ],
   "source": [
    "# Trying to match output\n",
    "for item in item_list:\n",
    "    print('1 ' + item.name + ' at '  + str(item.cost))\n",
    "print('Sales Taxes: ' + str(tacost) )\n",
    "print('Sales Taxes: ' + str(tacost) )"
   ]
  },
  {
   "cell_type": "code",
   "execution_count": 29,
   "metadata": {},
   "outputs": [
    {
     "name": "stdout",
     "output_type": "stream",
     "text": [
      "1.0\n",
      "1.1\n",
      "1.1\n"
     ]
    }
   ],
   "source": [
    "for item in item_list:\n",
    "    print(item.tax)"
   ]
  },
  {
   "cell_type": "code",
   "execution_count": null,
   "metadata": {},
   "outputs": [],
   "source": []
  }
 ],
 "metadata": {
  "kernelspec": {
   "display_name": "Python 3",
   "language": "python",
   "name": "python3"
  },
  "language_info": {
   "codemirror_mode": {
    "name": "ipython",
    "version": 3
   },
   "file_extension": ".py",
   "mimetype": "text/x-python",
   "name": "python",
   "nbconvert_exporter": "python",
   "pygments_lexer": "ipython3",
   "version": "3.7.1"
  }
 },
 "nbformat": 4,
 "nbformat_minor": 2
}

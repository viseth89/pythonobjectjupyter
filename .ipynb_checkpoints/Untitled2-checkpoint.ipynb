{
 "cells": [
  {
   "cell_type": "markdown",
   "metadata": {},
   "source": [
    "##### First Step is to add up basics on 1 item "
   ]
  },
  {
   "cell_type": "code",
   "execution_count": null,
   "metadata": {},
   "outputs": [],
   "source": [
    "item = input('Please input name of item :')\n",
    "cost = input('Please input cost of item : $')\n",
    "tax = input('Please input tax rate :')\n",
    "total = int(cost) * float(tax)\n",
    "stotal = str(total)\n",
    "\n",
    "print('Your total is $' + stotal)"
   ]
  },
  {
   "cell_type": "code",
   "execution_count": null,
   "metadata": {},
   "outputs": [],
   "source": [
    "runningtotal = 0\n",
    "while True:\n",
    "    total = int(cost) * float(tax)\n",
    "    runningtotal = runningtotal + total\n",
    "    stotal = str(runningtotal)\n",
    "    \n",
    "    item = input('Please input name of item :')\n",
    "    cost = input('Please input cost of item : $')\n",
    "    tax = input('Please input tax rate :')\n",
    "    fin = input('If you are done shopping input \"done\" please :')\n",
    "    if fin == 'done':\n",
    "        break\n",
    "\n",
    "print('Your total is ' + stotal)"
   ]
  },
  {
   "cell_type": "markdown",
   "metadata": {},
   "source": [
    "###### \n",
    "\n",
    "    1.Create a function for gathering the totals/notice I have to create the variable outside the while loop to establish base-line values that can be modified\n",
    "    2.Create classes? But how can they be used in this example?\n",
    "    3.Re-read question I don't think I need to do input, for now lets just focus on creating a class and establishing basic input and output even if we have to hardcode it"
   ]
  },
  {
   "cell_type": "code",
   "execution_count": null,
   "metadata": {},
   "outputs": [],
   "source": [
    "class Item():\n",
    "        \n",
    "    \n",
    "    def __init__(self, name, price, cat):\n",
    "        if cat == 5:\n",
    "            cat = 1.05\n",
    "        elif cat == 10:\n",
    "            cat = 1.10\n",
    "        else:\n",
    "            cat = 1.0\n",
    "            \n",
    "        self.name = name\n",
    "        self.price = price\n",
    "        self.cat = cat\n",
    "        self.total = cat * price\n",
    "    "
   ]
  },
  {
   "cell_type": "code",
   "execution_count": null,
   "metadata": {},
   "outputs": [],
   "source": [
    "item1=Item('book', 12.49,10)"
   ]
  },
  {
   "cell_type": "code",
   "execution_count": null,
   "metadata": {},
   "outputs": [],
   "source": [
    "print(item1)"
   ]
  },
  {
   "cell_type": "code",
   "execution_count": null,
   "metadata": {},
   "outputs": [],
   "source": [
    "2+2"
   ]
  },
  {
   "cell_type": "code",
   "execution_count": null,
   "metadata": {},
   "outputs": [],
   "source": []
  }
 ],
 "metadata": {
  "kernelspec": {
   "display_name": "Python 3",
   "language": "python",
   "name": "python3"
  },
  "language_info": {
   "codemirror_mode": {
    "name": "ipython",
    "version": 3
   },
   "file_extension": ".py",
   "mimetype": "text/x-python",
   "name": "python",
   "nbconvert_exporter": "python",
   "pygments_lexer": "ipython3",
   "version": "3.7.1"
  }
 },
 "nbformat": 4,
 "nbformat_minor": 2
}
